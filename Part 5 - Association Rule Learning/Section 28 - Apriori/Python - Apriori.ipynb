{
 "metadata": {
  "language_info": {
   "codemirror_mode": {
    "name": "ipython",
    "version": 3
   },
   "file_extension": ".py",
   "mimetype": "text/x-python",
   "name": "python",
   "nbconvert_exporter": "python",
   "pygments_lexer": "ipython3",
   "version": "3.8.8-final"
  },
  "orig_nbformat": 2,
  "kernelspec": {
   "name": "python388jvsc74a57bd098b0a9b7b4eaaa670588a142fd0a9b87eaafe866f1db4228be72b4211d12040f",
   "display_name": "Python 3.8.8 64-bit ('base': conda)"
  }
 },
 "nbformat": 4,
 "nbformat_minor": 2,
 "cells": [
  {
   "source": [
    "# Apriori\n",
    "## Support\n",
    "$$\n",
    "support(M_{1}) = \\frac{|M_{1}|}{|Total|}\n",
    "$$\n",
    "\n",
    "## Confidence\n",
    "$$\n",
    "confidence(M_{1} \\rightarrow M_{2}) = \\frac{|M_{1} \\cap M_{2} |}{|M_{1}|} = \\frac{support(M_{1},M_{2})}{support(M_{1})}\n",
    "$$\n",
    "\n",
    "## Lift\n",
    "$$\n",
    "lift(M_{1} \\rightarrow M_{2}) = \\frac{confidence(M_{1} \\rightarrow M_{2})}{support(M_{2})} = \\frac{support(M_{1},M_{2})}{support(M_{1})*support(M_{2})}\n",
    "$$"
   ],
   "cell_type": "markdown",
   "metadata": {}
  },
  {
   "source": [
    "<image src=\"apriori.png\">"
   ],
   "cell_type": "markdown",
   "metadata": {}
  },
  {
   "source": [
    "## Code"
   ],
   "cell_type": "markdown",
   "metadata": {}
  },
  {
   "cell_type": "code",
   "execution_count": 1,
   "metadata": {},
   "outputs": [
    {
     "output_type": "stream",
     "name": "stdout",
     "text": [
      "\u001b[33mWARNING: The directory '/home/jovyan/.cache/pip' or its parent directory is not owned or is not writable by the current user. The cache has been disabled. Check the permissions and owner of that directory. If executing pip with sudo, you may want sudo's -H flag.\u001b[0m\n",
      "Requirement already satisfied: apyori in /opt/conda/lib/python3.8/site-packages (1.1.2)\n"
     ]
    }
   ],
   "source": [
    "!pip install apyori"
   ]
  },
  {
   "cell_type": "code",
   "execution_count": 2,
   "metadata": {},
   "outputs": [],
   "source": [
    "import numpy as np\n",
    "import pandas as pd\n",
    "from apyori import apriori\n",
    "import matplotlib.pyplot as plt"
   ]
  },
  {
   "cell_type": "code",
   "execution_count": 3,
   "metadata": {
    "tags": []
   },
   "outputs": [],
   "source": [
    "dataset = pd.read_csv('Apriori_Python/Market_Basket_Optimisation.csv', header=None)\n",
    "dataset = dataset.astype(str)\n"
   ]
  },
  {
   "cell_type": "code",
   "execution_count": 4,
   "metadata": {},
   "outputs": [],
   "source": [
    "# Creating association rules\n",
    "rules = apriori(transactions = dataset.values, min_support = 0.003, min_confidence = 0.2, min_lift = 3, min_length = 2, max_length = 2)\n",
    "rule_list = list(rules)"
   ]
  },
  {
   "cell_type": "code",
   "execution_count": 5,
   "metadata": {},
   "outputs": [],
   "source": [
    "# Organizing results into a Pandas DataFrame\n",
    "def inspect(results):\n",
    "    lhs         = [tuple(result[2][0][0])[0] for result in results]\n",
    "    rhs         = [tuple(result[2][0][1])[0] for result in results]\n",
    "    supports    = [result[1] for result in results]\n",
    "    confidences = [result[2][0][2] for result in results]\n",
    "    lifts       = [result[2][0][3] for result in results]\n",
    "    return list(zip(lhs, rhs, supports, confidences, lifts))\n",
    "resultsinDataFrame = pd.DataFrame(inspect(rule_list), columns = ['Left Hand Side', 'Right Hand Side', 'Support', 'Confidence', 'Lift'])"
   ]
  },
  {
   "cell_type": "code",
   "execution_count": 6,
   "metadata": {},
   "outputs": [
    {
     "output_type": "execute_result",
     "data": {
      "text/plain": [
       "         Left Hand Side Right Hand Side   Support  Confidence      Lift\n",
       "0           light cream         chicken  0.004533    0.290598  4.843951\n",
       "1  mushroom cream sauce        escalope  0.005733    0.300699  3.790833\n",
       "2                 pasta        escalope  0.005866    0.372881  4.700812\n",
       "3         fromage blanc           honey  0.003333    0.245098  5.164271\n",
       "4         herb & pepper     ground beef  0.015998    0.323450  3.291994\n",
       "5          tomato sauce     ground beef  0.005333    0.377358  3.840659\n",
       "6           light cream       olive oil  0.003200    0.205128  3.114710\n",
       "7     whole wheat pasta       olive oil  0.007999    0.271493  4.122410\n",
       "8                 pasta          shrimp  0.005066    0.322034  4.506672"
      ],
      "text/html": "<div>\n<style scoped>\n    .dataframe tbody tr th:only-of-type {\n        vertical-align: middle;\n    }\n\n    .dataframe tbody tr th {\n        vertical-align: top;\n    }\n\n    .dataframe thead th {\n        text-align: right;\n    }\n</style>\n<table border=\"1\" class=\"dataframe\">\n  <thead>\n    <tr style=\"text-align: right;\">\n      <th></th>\n      <th>Left Hand Side</th>\n      <th>Right Hand Side</th>\n      <th>Support</th>\n      <th>Confidence</th>\n      <th>Lift</th>\n    </tr>\n  </thead>\n  <tbody>\n    <tr>\n      <th>0</th>\n      <td>light cream</td>\n      <td>chicken</td>\n      <td>0.004533</td>\n      <td>0.290598</td>\n      <td>4.843951</td>\n    </tr>\n    <tr>\n      <th>1</th>\n      <td>mushroom cream sauce</td>\n      <td>escalope</td>\n      <td>0.005733</td>\n      <td>0.300699</td>\n      <td>3.790833</td>\n    </tr>\n    <tr>\n      <th>2</th>\n      <td>pasta</td>\n      <td>escalope</td>\n      <td>0.005866</td>\n      <td>0.372881</td>\n      <td>4.700812</td>\n    </tr>\n    <tr>\n      <th>3</th>\n      <td>fromage blanc</td>\n      <td>honey</td>\n      <td>0.003333</td>\n      <td>0.245098</td>\n      <td>5.164271</td>\n    </tr>\n    <tr>\n      <th>4</th>\n      <td>herb &amp; pepper</td>\n      <td>ground beef</td>\n      <td>0.015998</td>\n      <td>0.323450</td>\n      <td>3.291994</td>\n    </tr>\n    <tr>\n      <th>5</th>\n      <td>tomato sauce</td>\n      <td>ground beef</td>\n      <td>0.005333</td>\n      <td>0.377358</td>\n      <td>3.840659</td>\n    </tr>\n    <tr>\n      <th>6</th>\n      <td>light cream</td>\n      <td>olive oil</td>\n      <td>0.003200</td>\n      <td>0.205128</td>\n      <td>3.114710</td>\n    </tr>\n    <tr>\n      <th>7</th>\n      <td>whole wheat pasta</td>\n      <td>olive oil</td>\n      <td>0.007999</td>\n      <td>0.271493</td>\n      <td>4.122410</td>\n    </tr>\n    <tr>\n      <th>8</th>\n      <td>pasta</td>\n      <td>shrimp</td>\n      <td>0.005066</td>\n      <td>0.322034</td>\n      <td>4.506672</td>\n    </tr>\n  </tbody>\n</table>\n</div>"
     },
     "metadata": {},
     "execution_count": 6
    }
   ],
   "source": [
    "resultsinDataFrame"
   ]
  },
  {
   "cell_type": "code",
   "execution_count": 7,
   "metadata": {},
   "outputs": [
    {
     "output_type": "execute_result",
     "data": {
      "text/plain": [
       "         Left Hand Side Right Hand Side   Support  Confidence      Lift\n",
       "3         fromage blanc           honey  0.003333    0.245098  5.164271\n",
       "0           light cream         chicken  0.004533    0.290598  4.843951\n",
       "2                 pasta        escalope  0.005866    0.372881  4.700812\n",
       "8                 pasta          shrimp  0.005066    0.322034  4.506672\n",
       "7     whole wheat pasta       olive oil  0.007999    0.271493  4.122410\n",
       "5          tomato sauce     ground beef  0.005333    0.377358  3.840659\n",
       "1  mushroom cream sauce        escalope  0.005733    0.300699  3.790833\n",
       "4         herb & pepper     ground beef  0.015998    0.323450  3.291994\n",
       "6           light cream       olive oil  0.003200    0.205128  3.114710"
      ],
      "text/html": "<div>\n<style scoped>\n    .dataframe tbody tr th:only-of-type {\n        vertical-align: middle;\n    }\n\n    .dataframe tbody tr th {\n        vertical-align: top;\n    }\n\n    .dataframe thead th {\n        text-align: right;\n    }\n</style>\n<table border=\"1\" class=\"dataframe\">\n  <thead>\n    <tr style=\"text-align: right;\">\n      <th></th>\n      <th>Left Hand Side</th>\n      <th>Right Hand Side</th>\n      <th>Support</th>\n      <th>Confidence</th>\n      <th>Lift</th>\n    </tr>\n  </thead>\n  <tbody>\n    <tr>\n      <th>3</th>\n      <td>fromage blanc</td>\n      <td>honey</td>\n      <td>0.003333</td>\n      <td>0.245098</td>\n      <td>5.164271</td>\n    </tr>\n    <tr>\n      <th>0</th>\n      <td>light cream</td>\n      <td>chicken</td>\n      <td>0.004533</td>\n      <td>0.290598</td>\n      <td>4.843951</td>\n    </tr>\n    <tr>\n      <th>2</th>\n      <td>pasta</td>\n      <td>escalope</td>\n      <td>0.005866</td>\n      <td>0.372881</td>\n      <td>4.700812</td>\n    </tr>\n    <tr>\n      <th>8</th>\n      <td>pasta</td>\n      <td>shrimp</td>\n      <td>0.005066</td>\n      <td>0.322034</td>\n      <td>4.506672</td>\n    </tr>\n    <tr>\n      <th>7</th>\n      <td>whole wheat pasta</td>\n      <td>olive oil</td>\n      <td>0.007999</td>\n      <td>0.271493</td>\n      <td>4.122410</td>\n    </tr>\n    <tr>\n      <th>5</th>\n      <td>tomato sauce</td>\n      <td>ground beef</td>\n      <td>0.005333</td>\n      <td>0.377358</td>\n      <td>3.840659</td>\n    </tr>\n    <tr>\n      <th>1</th>\n      <td>mushroom cream sauce</td>\n      <td>escalope</td>\n      <td>0.005733</td>\n      <td>0.300699</td>\n      <td>3.790833</td>\n    </tr>\n    <tr>\n      <th>4</th>\n      <td>herb &amp; pepper</td>\n      <td>ground beef</td>\n      <td>0.015998</td>\n      <td>0.323450</td>\n      <td>3.291994</td>\n    </tr>\n    <tr>\n      <th>6</th>\n      <td>light cream</td>\n      <td>olive oil</td>\n      <td>0.003200</td>\n      <td>0.205128</td>\n      <td>3.114710</td>\n    </tr>\n  </tbody>\n</table>\n</div>"
     },
     "metadata": {},
     "execution_count": 7
    }
   ],
   "source": [
    "# sorting\n",
    "resultsinDataFrame.nlargest(n = 10, columns = 'Lift')"
   ]
  },
  {
   "cell_type": "code",
   "execution_count": null,
   "metadata": {},
   "outputs": [],
   "source": []
  }
 ]
}