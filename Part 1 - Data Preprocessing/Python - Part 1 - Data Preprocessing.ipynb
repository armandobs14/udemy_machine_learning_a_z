{
 "cells": [
  {
   "cell_type": "markdown",
   "metadata": {},
   "source": [
    "# Part 1 - Data Preprocessing in Python\n"
   ]
  },
  {
   "cell_type": "code",
   "execution_count": 1,
   "metadata": {
    "collapsed": true
   },
   "outputs": [],
   "source": [
    "#importing the libraries\n",
    "\n",
    "import numpy as np\n",
    "import matplotlib.pyplot as plt\n",
    "import pandas as pd"
   ]
  },
  {
   "cell_type": "code",
   "execution_count": 2,
   "metadata": {},
   "outputs": [
    {
     "data": {
      "text/plain": [
       "(array([['France', 44.0, 72000.0],\n",
       "        ['Spain', 27.0, 48000.0],\n",
       "        ['Germany', 30.0, 54000.0],\n",
       "        ['Spain', 38.0, 61000.0],\n",
       "        ['Germany', 40.0, nan],\n",
       "        ['France', 35.0, 58000.0],\n",
       "        ['Spain', nan, 52000.0],\n",
       "        ['France', 48.0, 79000.0],\n",
       "        ['Germany', 50.0, 83000.0],\n",
       "        ['France', 37.0, 67000.0]], dtype=object),\n",
       " array(['No', 'Yes', 'No', 'No', 'Yes', 'Yes', 'No', 'Yes', 'No', 'Yes'], dtype=object))"
      ]
     },
     "execution_count": 2,
     "metadata": {},
     "output_type": "execute_result"
    }
   ],
   "source": [
    "# Importing the dataset\n",
    "dataset = pd.read_csv('Data.csv')\n",
    "X = dataset.iloc[:,:-1].values\n",
    "Y = dataset.iloc[:,3].values\n",
    "\n",
    "X, Y"
   ]
  },
  {
   "cell_type": "code",
   "execution_count": 3,
   "metadata": {},
   "outputs": [
    {
     "data": {
      "text/plain": [
       "(array([['France', 44.0, 72000.0],\n",
       "        ['Spain', 27.0, 48000.0],\n",
       "        ['Germany', 30.0, 54000.0],\n",
       "        ['Spain', 38.0, 61000.0],\n",
       "        ['Germany', 40.0, 63777.77777777778],\n",
       "        ['France', 35.0, 58000.0],\n",
       "        ['Spain', 38.77777777777778, 52000.0],\n",
       "        ['France', 48.0, 79000.0],\n",
       "        ['Germany', 50.0, 83000.0],\n",
       "        ['France', 37.0, 67000.0]], dtype=object),\n",
       " array(['No', 'Yes', 'No', 'No', 'Yes', 'Yes', 'No', 'Yes', 'No', 'Yes'], dtype=object))"
      ]
     },
     "execution_count": 3,
     "metadata": {},
     "output_type": "execute_result"
    }
   ],
   "source": [
    "# Handling missing data\n",
    "from sklearn.preprocessing import Imputer\n",
    "imputer = Imputer(missing_values='NaN', strategy = \"mean\", axis = 0)\n",
    "imputer = imputer.fit(X[:,1:3])\n",
    "X[:,1:3] = imputer.transform(X[:,1:3])\n",
    "\n",
    "X, Y"
   ]
  },
  {
   "cell_type": "code",
   "execution_count": 4,
   "metadata": {},
   "outputs": [
    {
     "data": {
      "text/plain": [
       "(array([[  1.00000000e+00,   0.00000000e+00,   0.00000000e+00,\n",
       "           4.40000000e+01,   7.20000000e+04],\n",
       "        [  0.00000000e+00,   0.00000000e+00,   1.00000000e+00,\n",
       "           2.70000000e+01,   4.80000000e+04],\n",
       "        [  0.00000000e+00,   1.00000000e+00,   0.00000000e+00,\n",
       "           3.00000000e+01,   5.40000000e+04],\n",
       "        [  0.00000000e+00,   0.00000000e+00,   1.00000000e+00,\n",
       "           3.80000000e+01,   6.10000000e+04],\n",
       "        [  0.00000000e+00,   1.00000000e+00,   0.00000000e+00,\n",
       "           4.00000000e+01,   6.37777778e+04],\n",
       "        [  1.00000000e+00,   0.00000000e+00,   0.00000000e+00,\n",
       "           3.50000000e+01,   5.80000000e+04],\n",
       "        [  0.00000000e+00,   0.00000000e+00,   1.00000000e+00,\n",
       "           3.87777778e+01,   5.20000000e+04],\n",
       "        [  1.00000000e+00,   0.00000000e+00,   0.00000000e+00,\n",
       "           4.80000000e+01,   7.90000000e+04],\n",
       "        [  0.00000000e+00,   1.00000000e+00,   0.00000000e+00,\n",
       "           5.00000000e+01,   8.30000000e+04],\n",
       "        [  1.00000000e+00,   0.00000000e+00,   0.00000000e+00,\n",
       "           3.70000000e+01,   6.70000000e+04]]),\n",
       " array([0, 1, 0, 0, 1, 1, 0, 1, 0, 1]))"
      ]
     },
     "execution_count": 4,
     "metadata": {},
     "output_type": "execute_result"
    }
   ],
   "source": [
    "#Enconding categorical data\n",
    "from sklearn.preprocessing import LabelEncoder, OneHotEncoder\n",
    "\n",
    "labelencoder_X = LabelEncoder()\n",
    "X[:,0] = labelencoder_X.fit_transform(X[:,0])\n",
    "\n",
    "oneHotEnconder = OneHotEncoder(categorical_features = [0])\n",
    "X = oneHotEnconder.fit_transform(X).toarray()\n",
    "\n",
    "labelencoder_Y = LabelEncoder()\n",
    "Y = labelencoder_Y.fit_transform(Y)\n",
    "\n",
    "X, Y"
   ]
  },
  {
   "cell_type": "code",
   "execution_count": 5,
   "metadata": {},
   "outputs": [
    {
     "data": {
      "text/plain": [
       "(array([[  0.00000000e+00,   1.00000000e+00,   0.00000000e+00,\n",
       "           4.00000000e+01,   6.37777778e+04],\n",
       "        [  1.00000000e+00,   0.00000000e+00,   0.00000000e+00,\n",
       "           3.70000000e+01,   6.70000000e+04],\n",
       "        [  0.00000000e+00,   0.00000000e+00,   1.00000000e+00,\n",
       "           2.70000000e+01,   4.80000000e+04],\n",
       "        [  0.00000000e+00,   0.00000000e+00,   1.00000000e+00,\n",
       "           3.87777778e+01,   5.20000000e+04],\n",
       "        [  1.00000000e+00,   0.00000000e+00,   0.00000000e+00,\n",
       "           4.80000000e+01,   7.90000000e+04],\n",
       "        [  0.00000000e+00,   0.00000000e+00,   1.00000000e+00,\n",
       "           3.80000000e+01,   6.10000000e+04],\n",
       "        [  1.00000000e+00,   0.00000000e+00,   0.00000000e+00,\n",
       "           4.40000000e+01,   7.20000000e+04],\n",
       "        [  1.00000000e+00,   0.00000000e+00,   0.00000000e+00,\n",
       "           3.50000000e+01,   5.80000000e+04]]),\n",
       " array([[  0.00000000e+00,   1.00000000e+00,   0.00000000e+00,\n",
       "           3.00000000e+01,   5.40000000e+04],\n",
       "        [  0.00000000e+00,   1.00000000e+00,   0.00000000e+00,\n",
       "           5.00000000e+01,   8.30000000e+04]]),\n",
       " array([1, 1, 1, 0, 1, 0, 0, 1]),\n",
       " array([0, 0]))"
      ]
     },
     "execution_count": 5,
     "metadata": {},
     "output_type": "execute_result"
    }
   ],
   "source": [
    "# Splitting the dataset into training and test set\n",
    "from sklearn.model_selection import train_test_split\n",
    "X_train, X_test, Y_train, Y_test = train_test_split(X, Y, test_size = 0.2, random_state = 0)\n",
    "\n",
    "X_train, X_test, Y_train, Y_test"
   ]
  },
  {
   "cell_type": "code",
   "execution_count": 6,
   "metadata": {},
   "outputs": [
    {
     "data": {
      "text/plain": [
       "(array([[-1.        ,  2.64575131, -0.77459667,  0.26306757,  0.12381479],\n",
       "        [ 1.        , -0.37796447, -0.77459667, -0.25350148,  0.46175632],\n",
       "        [-1.        , -0.37796447,  1.29099445, -1.97539832, -1.53093341],\n",
       "        [-1.        , -0.37796447,  1.29099445,  0.05261351, -1.11141978],\n",
       "        [ 1.        , -0.37796447, -0.77459667,  1.64058505,  1.7202972 ],\n",
       "        [-1.        , -0.37796447,  1.29099445, -0.0813118 , -0.16751412],\n",
       "        [ 1.        , -0.37796447, -0.77459667,  0.95182631,  0.98614835],\n",
       "        [ 1.        , -0.37796447, -0.77459667, -0.59788085, -0.48214934]]),\n",
       " array([[-1.        ,  2.64575131, -0.77459667, -1.45882927, -0.90166297],\n",
       "        [-1.        ,  2.64575131, -0.77459667,  1.98496442,  2.13981082]]))"
      ]
     },
     "execution_count": 6,
     "metadata": {},
     "output_type": "execute_result"
    }
   ],
   "source": [
    "# Featuring Scaling\n",
    "from sklearn.preprocessing import StandardScaler\n",
    "sc_X = StandardScaler()\n",
    "X_train = sc_X.fit_transform(X_train)\n",
    "X_test = sc_X.transform(X_test)\n",
    "\n",
    "X_train, X_test"
   ]
  }
 ],
 "metadata": {
  "kernelspec": {
   "display_name": "Python 3",
   "language": "python",
   "name": "python3"
  },
  "language_info": {
   "codemirror_mode": {
    "name": "ipython",
    "version": 3
   },
   "file_extension": ".py",
   "mimetype": "text/x-python",
   "name": "python",
   "nbconvert_exporter": "python",
   "pygments_lexer": "ipython3",
   "version": "3.6.3"
  }
 },
 "nbformat": 4,
 "nbformat_minor": 2
}
