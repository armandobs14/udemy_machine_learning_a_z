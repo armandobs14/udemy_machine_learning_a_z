{
 "metadata": {
  "language_info": {
   "codemirror_mode": {
    "name": "ipython",
    "version": 3
   },
   "file_extension": ".py",
   "mimetype": "text/x-python",
   "name": "python",
   "nbconvert_exporter": "python",
   "pygments_lexer": "ipython3",
   "version": 3
  },
  "orig_nbformat": 2
 },
 "nbformat": 4,
 "nbformat_minor": 2,
 "cells": [
  {
   "source": [
    "# Upper Confidence Bound\n",
    "É um problema onde uma quantidade limitada de recursos deve ser alocada entre as opções de forma que maximize o ganho, de forma que as propriedades da opção são parcialmente conhecidas apenas no momento da alocação de recursos e se torna mais conhecida ao passar do tempo ou alocando mais recursos.\n",
    "\n",
    "Testes A/B é um exemplo de (exploration-only).\n",
    "<img src=\"Multi-Armed_Bandit_Problem.png\">"
   ],
   "cell_type": "markdown",
   "metadata": {}
  },
  {
   "cell_type": "code",
   "execution_count": null,
   "metadata": {},
   "outputs": [],
   "source": []
  }
 ]
}