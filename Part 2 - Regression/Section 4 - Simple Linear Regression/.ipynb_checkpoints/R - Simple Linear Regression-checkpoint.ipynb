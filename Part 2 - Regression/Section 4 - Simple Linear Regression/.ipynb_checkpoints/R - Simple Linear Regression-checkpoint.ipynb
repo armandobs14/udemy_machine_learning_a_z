{
 "cells": [
  {
   "cell_type": "code",
   "execution_count": 1,
   "metadata": {},
   "outputs": [],
   "source": [
    "dataset <- read.csv('Salary_Data.csv')"
   ]
  },
  {
   "cell_type": "code",
   "execution_count": 3,
   "metadata": {},
   "outputs": [
    {
     "data": {
      "text/html": [
       "<table>\n",
       "<thead><tr><th></th><th scope=col>YearsExperience</th><th scope=col>Salary</th></tr></thead>\n",
       "<tbody>\n",
       "\t<tr><th scope=row>1</th><td> 1.1  </td><td> 39343</td></tr>\n",
       "\t<tr><th scope=row>3</th><td> 1.5  </td><td> 37731</td></tr>\n",
       "\t<tr><th scope=row>6</th><td> 2.9  </td><td> 56642</td></tr>\n",
       "\t<tr><th scope=row>7</th><td> 3.0  </td><td> 60150</td></tr>\n",
       "\t<tr><th scope=row>9</th><td> 3.2  </td><td> 64445</td></tr>\n",
       "\t<tr><th scope=row>10</th><td> 3.7  </td><td> 57189</td></tr>\n",
       "\t<tr><th scope=row>12</th><td> 4.0  </td><td> 55794</td></tr>\n",
       "\t<tr><th scope=row>13</th><td> 4.0  </td><td> 56957</td></tr>\n",
       "\t<tr><th scope=row>14</th><td> 4.1  </td><td> 57081</td></tr>\n",
       "\t<tr><th scope=row>15</th><td> 4.5  </td><td> 61111</td></tr>\n",
       "\t<tr><th scope=row>17</th><td> 5.1  </td><td> 66029</td></tr>\n",
       "\t<tr><th scope=row>18</th><td> 5.3  </td><td> 83088</td></tr>\n",
       "\t<tr><th scope=row>19</th><td> 5.9  </td><td> 81363</td></tr>\n",
       "\t<tr><th scope=row>22</th><td> 7.1  </td><td> 98273</td></tr>\n",
       "\t<tr><th scope=row>23</th><td> 7.9  </td><td>101302</td></tr>\n",
       "\t<tr><th scope=row>25</th><td> 8.7  </td><td>109431</td></tr>\n",
       "\t<tr><th scope=row>27</th><td> 9.5  </td><td>116969</td></tr>\n",
       "\t<tr><th scope=row>28</th><td> 9.6  </td><td>112635</td></tr>\n",
       "\t<tr><th scope=row>29</th><td>10.3  </td><td>122391</td></tr>\n",
       "\t<tr><th scope=row>30</th><td>10.5  </td><td>121872</td></tr>\n",
       "</tbody>\n",
       "</table>\n"
      ],
      "text/latex": [
       "\\begin{tabular}{r|ll}\n",
       "  & YearsExperience & Salary\\\\\n",
       "\\hline\n",
       "\t1 &  1.1   &  39343\\\\\n",
       "\t3 &  1.5   &  37731\\\\\n",
       "\t6 &  2.9   &  56642\\\\\n",
       "\t7 &  3.0   &  60150\\\\\n",
       "\t9 &  3.2   &  64445\\\\\n",
       "\t10 &  3.7   &  57189\\\\\n",
       "\t12 &  4.0   &  55794\\\\\n",
       "\t13 &  4.0   &  56957\\\\\n",
       "\t14 &  4.1   &  57081\\\\\n",
       "\t15 &  4.5   &  61111\\\\\n",
       "\t17 &  5.1   &  66029\\\\\n",
       "\t18 &  5.3   &  83088\\\\\n",
       "\t19 &  5.9   &  81363\\\\\n",
       "\t22 &  7.1   &  98273\\\\\n",
       "\t23 &  7.9   & 101302\\\\\n",
       "\t25 &  8.7   & 109431\\\\\n",
       "\t27 &  9.5   & 116969\\\\\n",
       "\t28 &  9.6   & 112635\\\\\n",
       "\t29 & 10.3   & 122391\\\\\n",
       "\t30 & 10.5   & 121872\\\\\n",
       "\\end{tabular}\n"
      ],
      "text/markdown": [
       "\n",
       "| <!--/--> | YearsExperience | Salary | \n",
       "|---|---|---|---|---|---|---|---|---|---|---|---|---|---|---|---|---|---|---|---|\n",
       "| 1 |  1.1   |  39343 | \n",
       "| 3 |  1.5   |  37731 | \n",
       "| 6 |  2.9   |  56642 | \n",
       "| 7 |  3.0   |  60150 | \n",
       "| 9 |  3.2   |  64445 | \n",
       "| 10 |  3.7   |  57189 | \n",
       "| 12 |  4.0   |  55794 | \n",
       "| 13 |  4.0   |  56957 | \n",
       "| 14 |  4.1   |  57081 | \n",
       "| 15 |  4.5   |  61111 | \n",
       "| 17 |  5.1   |  66029 | \n",
       "| 18 |  5.3   |  83088 | \n",
       "| 19 |  5.9   |  81363 | \n",
       "| 22 |  7.1   |  98273 | \n",
       "| 23 |  7.9   | 101302 | \n",
       "| 25 |  8.7   | 109431 | \n",
       "| 27 |  9.5   | 116969 | \n",
       "| 28 |  9.6   | 112635 | \n",
       "| 29 | 10.3   | 122391 | \n",
       "| 30 | 10.5   | 121872 | \n",
       "\n",
       "\n"
      ],
      "text/plain": [
       "   YearsExperience Salary\n",
       "1   1.1             39343\n",
       "3   1.5             37731\n",
       "6   2.9             56642\n",
       "7   3.0             60150\n",
       "9   3.2             64445\n",
       "10  3.7             57189\n",
       "12  4.0             55794\n",
       "13  4.0             56957\n",
       "14  4.1             57081\n",
       "15  4.5             61111\n",
       "17  5.1             66029\n",
       "18  5.3             83088\n",
       "19  5.9             81363\n",
       "22  7.1             98273\n",
       "23  7.9            101302\n",
       "25  8.7            109431\n",
       "27  9.5            116969\n",
       "28  9.6            112635\n",
       "29 10.3            122391\n",
       "30 10.5            121872"
      ]
     },
     "metadata": {},
     "output_type": "display_data"
    },
    {
     "data": {
      "text/html": [
       "<table>\n",
       "<thead><tr><th></th><th scope=col>YearsExperience</th><th scope=col>Salary</th></tr></thead>\n",
       "<tbody>\n",
       "\t<tr><th scope=row>2</th><td>1.3   </td><td> 46205</td></tr>\n",
       "\t<tr><th scope=row>4</th><td>2.0   </td><td> 43525</td></tr>\n",
       "\t<tr><th scope=row>5</th><td>2.2   </td><td> 39891</td></tr>\n",
       "\t<tr><th scope=row>8</th><td>3.2   </td><td> 54445</td></tr>\n",
       "\t<tr><th scope=row>11</th><td>3.9   </td><td> 63218</td></tr>\n",
       "\t<tr><th scope=row>16</th><td>4.9   </td><td> 67938</td></tr>\n",
       "\t<tr><th scope=row>20</th><td>6.0   </td><td> 93940</td></tr>\n",
       "\t<tr><th scope=row>21</th><td>6.8   </td><td> 91738</td></tr>\n",
       "\t<tr><th scope=row>24</th><td>8.2   </td><td>113812</td></tr>\n",
       "\t<tr><th scope=row>26</th><td>9.0   </td><td>105582</td></tr>\n",
       "</tbody>\n",
       "</table>\n"
      ],
      "text/latex": [
       "\\begin{tabular}{r|ll}\n",
       "  & YearsExperience & Salary\\\\\n",
       "\\hline\n",
       "\t2 & 1.3    &  46205\\\\\n",
       "\t4 & 2.0    &  43525\\\\\n",
       "\t5 & 2.2    &  39891\\\\\n",
       "\t8 & 3.2    &  54445\\\\\n",
       "\t11 & 3.9    &  63218\\\\\n",
       "\t16 & 4.9    &  67938\\\\\n",
       "\t20 & 6.0    &  93940\\\\\n",
       "\t21 & 6.8    &  91738\\\\\n",
       "\t24 & 8.2    & 113812\\\\\n",
       "\t26 & 9.0    & 105582\\\\\n",
       "\\end{tabular}\n"
      ],
      "text/markdown": [
       "\n",
       "| <!--/--> | YearsExperience | Salary | \n",
       "|---|---|---|---|---|---|---|---|---|---|\n",
       "| 2 | 1.3    |  46205 | \n",
       "| 4 | 2.0    |  43525 | \n",
       "| 5 | 2.2    |  39891 | \n",
       "| 8 | 3.2    |  54445 | \n",
       "| 11 | 3.9    |  63218 | \n",
       "| 16 | 4.9    |  67938 | \n",
       "| 20 | 6.0    |  93940 | \n",
       "| 21 | 6.8    |  91738 | \n",
       "| 24 | 8.2    | 113812 | \n",
       "| 26 | 9.0    | 105582 | \n",
       "\n",
       "\n"
      ],
      "text/plain": [
       "   YearsExperience Salary\n",
       "2  1.3              46205\n",
       "4  2.0              43525\n",
       "5  2.2              39891\n",
       "8  3.2              54445\n",
       "11 3.9              63218\n",
       "16 4.9              67938\n",
       "20 6.0              93940\n",
       "21 6.8              91738\n",
       "24 8.2             113812\n",
       "26 9.0             105582"
      ]
     },
     "metadata": {},
     "output_type": "display_data"
    }
   ],
   "source": [
    "# Splitting the dataset into the Training set and Test set\n",
    "# install.packages('caTools')\n",
    "library(caTools)\n",
    "set.seed(123)\n",
    "split = sample.split(dataset$Salary, SplitRatio = 2/3)\n",
    "training_set = subset(dataset, split == TRUE)\n",
    "test_set = subset(dataset, split == FALSE)"
   ]
  },
  {
   "cell_type": "code",
   "execution_count": 5,
   "metadata": {},
   "outputs": [],
   "source": [
    "# Fitting Simple Linear Regression to the Training set\n",
    "regressor = lm(formula = Salary ~ YearsExperience,\n",
    "              data = training_set)"
   ]
  }
 ],
 "metadata": {
  "kernelspec": {
   "display_name": "R",
   "language": "R",
   "name": "ir"
  },
  "language_info": {
   "codemirror_mode": "r",
   "file_extension": ".r",
   "mimetype": "text/x-r-source",
   "name": "R",
   "pygments_lexer": "r",
   "version": "3.4.2"
  },
  "widgets": {
   "application/vnd.jupyter.widget-state+json": {
    "state": {},
    "version_major": 2,
    "version_minor": 0
   }
  }
 },
 "nbformat": 4,
 "nbformat_minor": 2
}
