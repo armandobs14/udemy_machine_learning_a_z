{
 "cells": [
  {
   "cell_type": "markdown",
   "metadata": {},
   "source": [
    "# Suport Vector Regression (SVR)"
   ]
  },
  {
   "cell_type": "code",
   "execution_count": 3,
   "metadata": {},
   "outputs": [],
   "source": [
    "# Install and Import SVR library\n",
    "# install.packages('e1071')\n",
    "library(e1071)\n",
    "library(ggplot2)"
   ]
  },
  {
   "cell_type": "code",
   "execution_count": 4,
   "metadata": {},
   "outputs": [
    {
     "data": {
      "text/html": [
       "<table>\n",
       "<thead><tr><th scope=col>Level</th><th scope=col>Salary</th></tr></thead>\n",
       "<tbody>\n",
       "\t<tr><td> 1     </td><td>  45000</td></tr>\n",
       "\t<tr><td> 2     </td><td>  50000</td></tr>\n",
       "\t<tr><td> 3     </td><td>  60000</td></tr>\n",
       "\t<tr><td> 4     </td><td>  80000</td></tr>\n",
       "\t<tr><td> 5     </td><td> 110000</td></tr>\n",
       "\t<tr><td> 6     </td><td> 150000</td></tr>\n",
       "\t<tr><td> 7     </td><td> 200000</td></tr>\n",
       "\t<tr><td> 8     </td><td> 300000</td></tr>\n",
       "\t<tr><td> 9     </td><td> 500000</td></tr>\n",
       "\t<tr><td>10     </td><td>1000000</td></tr>\n",
       "</tbody>\n",
       "</table>\n"
      ],
      "text/latex": [
       "\\begin{tabular}{r|ll}\n",
       " Level & Salary\\\\\n",
       "\\hline\n",
       "\t  1      &   45000\\\\\n",
       "\t  2      &   50000\\\\\n",
       "\t  3      &   60000\\\\\n",
       "\t  4      &   80000\\\\\n",
       "\t  5      &  110000\\\\\n",
       "\t  6      &  150000\\\\\n",
       "\t  7      &  200000\\\\\n",
       "\t  8      &  300000\\\\\n",
       "\t  9      &  500000\\\\\n",
       "\t 10      & 1000000\\\\\n",
       "\\end{tabular}\n"
      ],
      "text/markdown": [
       "\n",
       "Level | Salary | \n",
       "|---|---|---|---|---|---|---|---|---|---|\n",
       "|  1      |   45000 | \n",
       "|  2      |   50000 | \n",
       "|  3      |   60000 | \n",
       "|  4      |   80000 | \n",
       "|  5      |  110000 | \n",
       "|  6      |  150000 | \n",
       "|  7      |  200000 | \n",
       "|  8      |  300000 | \n",
       "|  9      |  500000 | \n",
       "| 10      | 1000000 | \n",
       "\n",
       "\n"
      ],
      "text/plain": [
       "   Level Salary \n",
       "1   1      45000\n",
       "2   2      50000\n",
       "3   3      60000\n",
       "4   4      80000\n",
       "5   5     110000\n",
       "6   6     150000\n",
       "7   7     200000\n",
       "8   8     300000\n",
       "9   9     500000\n",
       "10 10    1000000"
      ]
     },
     "metadata": {},
     "output_type": "display_data"
    }
   ],
   "source": [
    "# Importing the dataset\n",
    "dataset = read.csv('SVR/Position_Salaries.csv')\n",
    "dataset = dataset[2:3]\n",
    "dataset"
   ]
  },
  {
   "cell_type": "code",
   "execution_count": 5,
   "metadata": {},
   "outputs": [],
   "source": [
    "# building SVR model\n",
    "model = svm(formula = Salary ~ .,\n",
    "            data = dataset, \n",
    "            type = 'eps-regression')"
   ]
  },
  {
   "cell_type": "code",
   "execution_count": 6,
   "metadata": {},
   "outputs": [
    {
     "data": {
      "text/html": [
       "<strong>1:</strong> 177861.113529654"
      ],
      "text/latex": [
       "\\textbf{1:} 177861.113529654"
      ],
      "text/markdown": [
       "**1:** 177861.113529654"
      ],
      "text/plain": [
       "       1 \n",
       "177861.1 "
      ]
     },
     "metadata": {},
     "output_type": "display_data"
    }
   ],
   "source": [
    "# Predicting a new result\n",
    "predict(model, data.frame( Level = 6.5))"
   ]
  },
  {
   "cell_type": "code",
   "execution_count": null,
   "metadata": {},
   "outputs": [],
   "source": [
    "# Visualising SVR results\n",
    "x_grid = seq(min(dataset$Level), max(dataset$Level),0.1)\n",
    "\n",
    "ggplot() +\n",
    "    geom_point( aes(x = dataset$Level, y = dataset$Salary), colour = 'red') +\n",
    "    geom_line( aes(x = x_grid, y = predict(model, newdata = data.frame(Level = x_grid))), colour = 'blue') +\n",
    "    ggtitle('Truth or Bluff (SVR)') +\n",
    "    xlab('Label') +\n",
    "    ylab('Salary')"
   ]
  }
 ],
 "metadata": {
  "kernelspec": {
   "display_name": "R",
   "language": "R",
   "name": "ir"
  },
  "language_info": {
   "codemirror_mode": "r",
   "file_extension": ".r",
   "mimetype": "text/x-r-source",
   "name": "R",
   "pygments_lexer": "r",
   "version": "3.4.1"
  }
 },
 "nbformat": 4,
 "nbformat_minor": 2
}
