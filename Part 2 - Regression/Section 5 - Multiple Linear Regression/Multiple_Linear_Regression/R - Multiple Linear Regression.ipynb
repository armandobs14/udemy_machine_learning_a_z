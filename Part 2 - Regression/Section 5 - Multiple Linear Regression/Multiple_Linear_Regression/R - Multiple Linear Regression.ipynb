{
 "cells": [
  {
   "cell_type": "markdown",
   "metadata": {},
   "source": [
    "# Multiple Linear Regression - R"
   ]
  },
  {
   "cell_type": "code",
   "execution_count": 3,
   "metadata": {
    "collapsed": true
   },
   "outputs": [],
   "source": [
    "# Importing dataset\n",
    "\n",
    "dataset = read.csv('50_Startups.csv')"
   ]
  },
  {
   "cell_type": "code",
   "execution_count": 4,
   "metadata": {
    "collapsed": true
   },
   "outputs": [],
   "source": [
    "# Encoding categorical data\n",
    "\n",
    "dataset$State = factor(dataset$State,\n",
    "                      levels = c(\"New York\",\"California\",\"Florida\"),\n",
    "                      labels = c(1,2,3))"
   ]
  },
  {
   "cell_type": "markdown",
   "metadata": {},
   "source": [
    "## Splitting the dataset into the Training and Test set"
   ]
  },
  {
   "cell_type": "code",
   "execution_count": 5,
   "metadata": {
    "collapsed": true
   },
   "outputs": [],
   "source": [
    "library(caTools)\n",
    "set.seed(123)\n",
    "split = sample.split(dataset$Profit, SplitRatio = 0.8)\n",
    "training_set = subset(dataset, split == TRUE)\n",
    "test_set = subset(dataset, split == FALSE)"
   ]
  },
  {
   "cell_type": "markdown",
   "metadata": {},
   "source": [
    "## Fitting Multiple Linear Regression to the Training set\n",
    "- Formula is a linear combination of independet variables\n",
    "- `.` is equivalent to all independent variables when we write a lm formula"
   ]
  },
  {
   "cell_type": "code",
   "execution_count": 11,
   "metadata": {},
   "outputs": [
    {
     "data": {
      "text/plain": [
       "\n",
       "Call:\n",
       "lm(formula = Profit ~ ., data = training_set)\n",
       "\n",
       "Residuals:\n",
       "   Min     1Q Median     3Q    Max \n",
       "-33128  -4865      5   6098  18065 \n",
       "\n",
       "Coefficients:\n",
       "                  Estimate Std. Error t value Pr(>|t|)    \n",
       "(Intercept)      4.965e+04  7.637e+03   6.501 1.94e-07 ***\n",
       "R.D.Spend        7.986e-01  5.604e-02  14.251 6.70e-16 ***\n",
       "Administration  -2.942e-02  5.828e-02  -0.505    0.617    \n",
       "Marketing.Spend  3.268e-02  2.127e-02   1.537    0.134    \n",
       "State2           1.213e+02  3.751e+03   0.032    0.974    \n",
       "State3           2.376e+02  4.127e+03   0.058    0.954    \n",
       "---\n",
       "Signif. codes:  0 ‘***’ 0.001 ‘**’ 0.01 ‘*’ 0.05 ‘.’ 0.1 ‘ ’ 1\n",
       "\n",
       "Residual standard error: 9908 on 34 degrees of freedom\n",
       "Multiple R-squared:  0.9499,\tAdjusted R-squared:  0.9425 \n",
       "F-statistic:   129 on 5 and 34 DF,  p-value: < 2.2e-16\n"
      ]
     },
     "metadata": {},
     "output_type": "display_data"
    },
    {
     "data": {
      "text/html": [
       "<dl class=dl-horizontal>\n",
       "\t<dt>4</dt>\n",
       "\t\t<dd>173981.087289013</dd>\n",
       "\t<dt>5</dt>\n",
       "\t\t<dd>172655.638294541</dd>\n",
       "\t<dt>8</dt>\n",
       "\t\t<dd>160250.020750651</dd>\n",
       "\t<dt>11</dt>\n",
       "\t\t<dd>135513.899440935</dd>\n",
       "\t<dt>16</dt>\n",
       "\t\t<dd>146059.361208702</dd>\n",
       "\t<dt>20</dt>\n",
       "\t\t<dd>114151.026047729</dd>\n",
       "\t<dt>21</dt>\n",
       "\t\t<dd>117081.624376537</dd>\n",
       "\t<dt>24</dt>\n",
       "\t\t<dd>110671.313743947</dd>\n",
       "\t<dt>31</dt>\n",
       "\t\t<dd>98975.2939884832</dd>\n",
       "\t<dt>32</dt>\n",
       "\t\t<dd>96867.0305670216</dd>\n",
       "</dl>\n"
      ],
      "text/latex": [
       "\\begin{description*}\n",
       "\\item[4] 173981.087289013\n",
       "\\item[5] 172655.638294541\n",
       "\\item[8] 160250.020750651\n",
       "\\item[11] 135513.899440935\n",
       "\\item[16] 146059.361208702\n",
       "\\item[20] 114151.026047729\n",
       "\\item[21] 117081.624376537\n",
       "\\item[24] 110671.313743947\n",
       "\\item[31] 98975.2939884832\n",
       "\\item[32] 96867.0305670216\n",
       "\\end{description*}\n"
      ],
      "text/markdown": [
       "4\n",
       ":   173981.0872890135\n",
       ":   172655.6382945418\n",
       ":   160250.02075065111\n",
       ":   135513.89944093516\n",
       ":   146059.36120870220\n",
       ":   114151.02604772921\n",
       ":   117081.62437653724\n",
       ":   110671.31374394731\n",
       ":   98975.293988483232\n",
       ":   96867.0305670216\n",
       "\n"
      ],
      "text/plain": [
       "        4         5         8        11        16        20        21        24 \n",
       "173981.09 172655.64 160250.02 135513.90 146059.36 114151.03 117081.62 110671.31 \n",
       "       31        32 \n",
       " 98975.29  96867.03 "
      ]
     },
     "metadata": {},
     "output_type": "display_data"
    }
   ],
   "source": [
    "# model = lm(formula = Progit ~ R.D.Spend + Administration + Marketing.Spend + State)\n",
    "model = lm(formula = Profit ~ . ,\n",
    "           data = training_set\n",
    "          )\n",
    "\n",
    "summary(model)\n",
    "\n",
    "Y_pred = predict( model , newdata = test_set )\n",
    "\n",
    "Y_pred"
   ]
  },
  {
   "cell_type": "code",
   "execution_count": 12,
   "metadata": {},
   "outputs": [
    {
     "data": {
      "text/plain": [
       "\n",
       "Call:\n",
       "lm(formula = Profit ~ R.D.Spend, data = training_set)\n",
       "\n",
       "Residuals:\n",
       "   Min     1Q Median     3Q    Max \n",
       "-34334  -4894   -340   6752  17147 \n",
       "\n",
       "Coefficients:\n",
       "             Estimate Std. Error t value Pr(>|t|)    \n",
       "(Intercept) 4.902e+04  2.748e+03   17.84   <2e-16 ***\n",
       "R.D.Spend   8.563e-01  3.357e-02   25.51   <2e-16 ***\n",
       "---\n",
       "Signif. codes:  0 ‘***’ 0.001 ‘**’ 0.01 ‘*’ 0.05 ‘.’ 0.1 ‘ ’ 1\n",
       "\n",
       "Residual standard error: 9836 on 38 degrees of freedom\n",
       "Multiple R-squared:  0.9448,\tAdjusted R-squared:  0.9434 \n",
       "F-statistic: 650.8 on 1 and 38 DF,  p-value: < 2.2e-16\n"
      ]
     },
     "metadata": {},
     "output_type": "display_data"
    },
    {
     "data": {
      "text/html": [
       "<dl class=dl-horizontal>\n",
       "\t<dt>4</dt>\n",
       "\t\t<dd>172647.927486252</dd>\n",
       "\t<dt>5</dt>\n",
       "\t\t<dd>170708.248020309</dd>\n",
       "\t<dt>8</dt>\n",
       "\t\t<dd>160595.500005456</dd>\n",
       "\t<dt>11</dt>\n",
       "\t\t<dd>136288.128213522</dd>\n",
       "\t<dt>16</dt>\n",
       "\t\t<dd>147087.081930473</dd>\n",
       "\t<dt>20</dt>\n",
       "\t\t<dd>123020.462735614</dd>\n",
       "\t<dt>21</dt>\n",
       "\t\t<dd>114315.005022582</dd>\n",
       "\t<dt>24</dt>\n",
       "\t\t<dd>106846.545011761</dd>\n",
       "\t<dt>31</dt>\n",
       "\t\t<dd>102104.068237814</dd>\n",
       "\t<dt>32</dt>\n",
       "\t\t<dd>101369.239314326</dd>\n",
       "</dl>\n"
      ],
      "text/latex": [
       "\\begin{description*}\n",
       "\\item[4] 172647.927486252\n",
       "\\item[5] 170708.248020309\n",
       "\\item[8] 160595.500005456\n",
       "\\item[11] 136288.128213522\n",
       "\\item[16] 147087.081930473\n",
       "\\item[20] 123020.462735614\n",
       "\\item[21] 114315.005022582\n",
       "\\item[24] 106846.545011761\n",
       "\\item[31] 102104.068237814\n",
       "\\item[32] 101369.239314326\n",
       "\\end{description*}\n"
      ],
      "text/markdown": [
       "4\n",
       ":   172647.9274862525\n",
       ":   170708.2480203098\n",
       ":   160595.50000545611\n",
       ":   136288.12821352216\n",
       ":   147087.08193047320\n",
       ":   123020.46273561421\n",
       ":   114315.00502258224\n",
       ":   106846.54501176131\n",
       ":   102104.06823781432\n",
       ":   101369.239314326\n",
       "\n"
      ],
      "text/plain": [
       "       4        5        8       11       16       20       21       24 \n",
       "172647.9 170708.2 160595.5 136288.1 147087.1 123020.5 114315.0 106846.5 \n",
       "      31       32 \n",
       "102104.1 101369.2 "
      ]
     },
     "metadata": {},
     "output_type": "display_data"
    }
   ],
   "source": [
    "# Predict the test set results\n",
    "\n",
    "model = lm(formula = Profit ~ R.D.Spend , data = training_set)\n",
    "summary( model )\n",
    "\n",
    "Y_pred = predict( model , newdata = test_set )\n",
    "Y_pred"
   ]
  }
 ],
 "metadata": {
  "kernelspec": {
   "display_name": "R",
   "language": "R",
   "name": "ir"
  },
  "language_info": {
   "codemirror_mode": "r",
   "file_extension": ".r",
   "mimetype": "text/x-r-source",
   "name": "R",
   "pygments_lexer": "r",
   "version": "3.4.2"
  }
 },
 "nbformat": 4,
 "nbformat_minor": 2
}
