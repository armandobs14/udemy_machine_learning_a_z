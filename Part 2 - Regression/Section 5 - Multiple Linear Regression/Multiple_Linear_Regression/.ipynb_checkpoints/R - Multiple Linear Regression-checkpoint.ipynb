{
 "cells": [
  {
   "cell_type": "markdown",
   "metadata": {},
   "source": [
    "# Multiple Linear Regression - R"
   ]
  },
  {
   "cell_type": "code",
   "execution_count": 3,
   "metadata": {
    "collapsed": true
   },
   "outputs": [],
   "source": [
    "# Importing dataset\n",
    "\n",
    "dataset = read.csv('50_Startups.csv')"
   ]
  },
  {
   "cell_type": "code",
   "execution_count": 4,
   "metadata": {
    "collapsed": true
   },
   "outputs": [],
   "source": [
    "# Encoding categorical data\n",
    "\n",
    "dataset$State = factor(dataset$State,\n",
    "                      levels = c(\"New York\",\"California\",\"Florida\"),\n",
    "                      labels = c(1,2,3))"
   ]
  },
  {
   "cell_type": "markdown",
   "metadata": {},
   "source": [
    "## Splitting the dataset into the Training and Test set"
   ]
  },
  {
   "cell_type": "code",
   "execution_count": 5,
   "metadata": {
    "collapsed": true
   },
   "outputs": [],
   "source": [
    "library(caTools)\n",
    "set.seed(123)\n",
    "split = sample.split(dataset$Profit, SplitRatio = 0.8)\n",
    "training_set = subset(dataset, split == TRUE)\n",
    "test_set = subset(dataset, split == FALSE)"
   ]
  },
  {
   "cell_type": "markdown",
   "metadata": {},
   "source": [
    "## Fitting Multiple Linear Regression to the Training set\n",
    "- Formula is a linear combination of independet variables\n",
    "- `.` is equivalent to all independent variables when we write a lm formula"
   ]
  },
  {
   "cell_type": "code",
   "execution_count": 7,
   "metadata": {},
   "outputs": [
    {
     "data": {
      "text/plain": [
       "\n",
       "Call:\n",
       "lm(formula = Profit ~ ., data = training_set)\n",
       "\n",
       "Residuals:\n",
       "   Min     1Q Median     3Q    Max \n",
       "-33128  -4865      5   6098  18065 \n",
       "\n",
       "Coefficients:\n",
       "                  Estimate Std. Error t value Pr(>|t|)    \n",
       "(Intercept)      4.965e+04  7.637e+03   6.501 1.94e-07 ***\n",
       "R.D.Spend        7.986e-01  5.604e-02  14.251 6.70e-16 ***\n",
       "Administration  -2.942e-02  5.828e-02  -0.505    0.617    \n",
       "Marketing.Spend  3.268e-02  2.127e-02   1.537    0.134    \n",
       "State2           1.213e+02  3.751e+03   0.032    0.974    \n",
       "State3           2.376e+02  4.127e+03   0.058    0.954    \n",
       "---\n",
       "Signif. codes:  0 ‘***’ 0.001 ‘**’ 0.01 ‘*’ 0.05 ‘.’ 0.1 ‘ ’ 1\n",
       "\n",
       "Residual standard error: 9908 on 34 degrees of freedom\n",
       "Multiple R-squared:  0.9499,\tAdjusted R-squared:  0.9425 \n",
       "F-statistic:   129 on 5 and 34 DF,  p-value: < 2.2e-16\n"
      ]
     },
     "metadata": {},
     "output_type": "display_data"
    },
    {
     "data": {
      "text/plain": [
       "\n",
       "Call:\n",
       "lm(formula = Profit ~ R.D.Spend, data = training_set)\n",
       "\n",
       "Residuals:\n",
       "   Min     1Q Median     3Q    Max \n",
       "-34334  -4894   -340   6752  17147 \n",
       "\n",
       "Coefficients:\n",
       "             Estimate Std. Error t value Pr(>|t|)    \n",
       "(Intercept) 4.902e+04  2.748e+03   17.84   <2e-16 ***\n",
       "R.D.Spend   8.563e-01  3.357e-02   25.51   <2e-16 ***\n",
       "---\n",
       "Signif. codes:  0 ‘***’ 0.001 ‘**’ 0.01 ‘*’ 0.05 ‘.’ 0.1 ‘ ’ 1\n",
       "\n",
       "Residual standard error: 9836 on 38 degrees of freedom\n",
       "Multiple R-squared:  0.9448,\tAdjusted R-squared:  0.9434 \n",
       "F-statistic: 650.8 on 1 and 38 DF,  p-value: < 2.2e-16\n"
      ]
     },
     "metadata": {},
     "output_type": "display_data"
    }
   ],
   "source": [
    "# model = lm(formula = Progit ~ R.D.Spend + Administration + Marketing.Spend + State)\n",
    "model = lm(formula = Profit ~ . ,\n",
    "           data = training_set\n",
    "          )\n",
    "\n",
    "summary(model)\n",
    "\n",
    "Y_pred = predict( model , newdata = test_set )\n",
    "\n",
    "Y_pred"
   ]
  },
  {
   "cell_type": "code",
   "execution_count": 10,
   "metadata": {},
   "outputs": [
    {
     "data": {
      "text/html": [
       "<dl class=dl-horizontal>\n",
       "\t<dt>4</dt>\n",
       "\t\t<dd>172647.927486252</dd>\n",
       "\t<dt>5</dt>\n",
       "\t\t<dd>170708.248020309</dd>\n",
       "\t<dt>8</dt>\n",
       "\t\t<dd>160595.500005456</dd>\n",
       "\t<dt>11</dt>\n",
       "\t\t<dd>136288.128213522</dd>\n",
       "\t<dt>16</dt>\n",
       "\t\t<dd>147087.081930473</dd>\n",
       "\t<dt>20</dt>\n",
       "\t\t<dd>123020.462735614</dd>\n",
       "\t<dt>21</dt>\n",
       "\t\t<dd>114315.005022582</dd>\n",
       "\t<dt>24</dt>\n",
       "\t\t<dd>106846.545011761</dd>\n",
       "\t<dt>31</dt>\n",
       "\t\t<dd>102104.068237814</dd>\n",
       "\t<dt>32</dt>\n",
       "\t\t<dd>101369.239314326</dd>\n",
       "</dl>\n"
      ],
      "text/latex": [
       "\\begin{description*}\n",
       "\\item[4] 172647.927486252\n",
       "\\item[5] 170708.248020309\n",
       "\\item[8] 160595.500005456\n",
       "\\item[11] 136288.128213522\n",
       "\\item[16] 147087.081930473\n",
       "\\item[20] 123020.462735614\n",
       "\\item[21] 114315.005022582\n",
       "\\item[24] 106846.545011761\n",
       "\\item[31] 102104.068237814\n",
       "\\item[32] 101369.239314326\n",
       "\\end{description*}\n"
      ],
      "text/markdown": [
       "4\n",
       ":   172647.9274862525\n",
       ":   170708.2480203098\n",
       ":   160595.50000545611\n",
       ":   136288.12821352216\n",
       ":   147087.08193047320\n",
       ":   123020.46273561421\n",
       ":   114315.00502258224\n",
       ":   106846.54501176131\n",
       ":   102104.06823781432\n",
       ":   101369.239314326\n",
       "\n"
      ],
      "text/plain": [
       "       4        5        8       11       16       20       21       24 \n",
       "172647.9 170708.2 160595.5 136288.1 147087.1 123020.5 114315.0 106846.5 \n",
       "      31       32 \n",
       "102104.1 101369.2 "
      ]
     },
     "metadata": {},
     "output_type": "display_data"
    },
    {
     "data": {
      "text/html": [
       "<table>\n",
       "<thead><tr><th></th><th scope=col>R.D.Spend</th><th scope=col>Administration</th><th scope=col>Marketing.Spend</th><th scope=col>State</th><th scope=col>Profit</th></tr></thead>\n",
       "<tbody>\n",
       "\t<tr><th scope=row>4</th><td>144372.41</td><td>118671.85</td><td>383199.62</td><td>1        </td><td>182901.99</td></tr>\n",
       "\t<tr><th scope=row>5</th><td>142107.34</td><td> 91391.77</td><td>366168.42</td><td>3        </td><td>166187.94</td></tr>\n",
       "\t<tr><th scope=row>8</th><td>130298.13</td><td>145530.06</td><td>323876.68</td><td>3        </td><td>155752.60</td></tr>\n",
       "\t<tr><th scope=row>11</th><td>101913.08</td><td>110594.11</td><td>229160.95</td><td>3        </td><td>146121.95</td></tr>\n",
       "\t<tr><th scope=row>16</th><td>114523.61</td><td>122616.84</td><td>261776.23</td><td>1        </td><td>129917.04</td></tr>\n",
       "\t<tr><th scope=row>20</th><td> 86419.70</td><td>153514.11</td><td>     0.00</td><td>1        </td><td>122776.86</td></tr>\n",
       "\t<tr><th scope=row>21</th><td> 76253.86</td><td>113867.30</td><td>298664.47</td><td>2        </td><td>118474.03</td></tr>\n",
       "\t<tr><th scope=row>24</th><td> 67532.53</td><td>105751.03</td><td>304768.73</td><td>3        </td><td>108733.99</td></tr>\n",
       "\t<tr><th scope=row>31</th><td> 61994.48</td><td>115641.28</td><td> 91131.24</td><td>3        </td><td> 99937.59</td></tr>\n",
       "\t<tr><th scope=row>32</th><td> 61136.38</td><td>152701.92</td><td> 88218.23</td><td>1        </td><td> 97483.56</td></tr>\n",
       "</tbody>\n",
       "</table>\n"
      ],
      "text/latex": [
       "\\begin{tabular}{r|lllll}\n",
       "  & R.D.Spend & Administration & Marketing.Spend & State & Profit\\\\\n",
       "\\hline\n",
       "\t4 & 144372.41 & 118671.85 & 383199.62 & 1         & 182901.99\\\\\n",
       "\t5 & 142107.34 &  91391.77 & 366168.42 & 3         & 166187.94\\\\\n",
       "\t8 & 130298.13 & 145530.06 & 323876.68 & 3         & 155752.60\\\\\n",
       "\t11 & 101913.08 & 110594.11 & 229160.95 & 3         & 146121.95\\\\\n",
       "\t16 & 114523.61 & 122616.84 & 261776.23 & 1         & 129917.04\\\\\n",
       "\t20 &  86419.70 & 153514.11 &      0.00 & 1         & 122776.86\\\\\n",
       "\t21 &  76253.86 & 113867.30 & 298664.47 & 2         & 118474.03\\\\\n",
       "\t24 &  67532.53 & 105751.03 & 304768.73 & 3         & 108733.99\\\\\n",
       "\t31 &  61994.48 & 115641.28 &  91131.24 & 3         &  99937.59\\\\\n",
       "\t32 &  61136.38 & 152701.92 &  88218.23 & 1         &  97483.56\\\\\n",
       "\\end{tabular}\n"
      ],
      "text/markdown": [
       "\n",
       "| <!--/--> | R.D.Spend | Administration | Marketing.Spend | State | Profit | \n",
       "|---|---|---|---|---|---|---|---|---|---|\n",
       "| 4 | 144372.41 | 118671.85 | 383199.62 | 1         | 182901.99 | \n",
       "| 5 | 142107.34 |  91391.77 | 366168.42 | 3         | 166187.94 | \n",
       "| 8 | 130298.13 | 145530.06 | 323876.68 | 3         | 155752.60 | \n",
       "| 11 | 101913.08 | 110594.11 | 229160.95 | 3         | 146121.95 | \n",
       "| 16 | 114523.61 | 122616.84 | 261776.23 | 1         | 129917.04 | \n",
       "| 20 |  86419.70 | 153514.11 |      0.00 | 1         | 122776.86 | \n",
       "| 21 |  76253.86 | 113867.30 | 298664.47 | 2         | 118474.03 | \n",
       "| 24 |  67532.53 | 105751.03 | 304768.73 | 3         | 108733.99 | \n",
       "| 31 |  61994.48 | 115641.28 |  91131.24 | 3         |  99937.59 | \n",
       "| 32 |  61136.38 | 152701.92 |  88218.23 | 1         |  97483.56 | \n",
       "\n",
       "\n"
      ],
      "text/plain": [
       "   R.D.Spend Administration Marketing.Spend State Profit   \n",
       "4  144372.41 118671.85      383199.62       1     182901.99\n",
       "5  142107.34  91391.77      366168.42       3     166187.94\n",
       "8  130298.13 145530.06      323876.68       3     155752.60\n",
       "11 101913.08 110594.11      229160.95       3     146121.95\n",
       "16 114523.61 122616.84      261776.23       1     129917.04\n",
       "20  86419.70 153514.11           0.00       1     122776.86\n",
       "21  76253.86 113867.30      298664.47       2     118474.03\n",
       "24  67532.53 105751.03      304768.73       3     108733.99\n",
       "31  61994.48 115641.28       91131.24       3      99937.59\n",
       "32  61136.38 152701.92       88218.23       1      97483.56"
      ]
     },
     "metadata": {},
     "output_type": "display_data"
    }
   ],
   "source": [
    "# Predict the test set results\n",
    "\n",
    "model = lm(formula = Profit ~ R.D.Spend , data = training_set)\n",
    "summary( model )\n",
    "\n",
    "Y_pred = predict( model , newdata = test_set )\n",
    "Y_pred"
   ]
  }
 ],
 "metadata": {
  "kernelspec": {
   "display_name": "R",
   "language": "R",
   "name": "ir"
  },
  "language_info": {
   "codemirror_mode": "r",
   "file_extension": ".r",
   "mimetype": "text/x-r-source",
   "name": "R",
   "pygments_lexer": "r",
   "version": "3.4.2"
  }
 },
 "nbformat": 4,
 "nbformat_minor": 2
}
