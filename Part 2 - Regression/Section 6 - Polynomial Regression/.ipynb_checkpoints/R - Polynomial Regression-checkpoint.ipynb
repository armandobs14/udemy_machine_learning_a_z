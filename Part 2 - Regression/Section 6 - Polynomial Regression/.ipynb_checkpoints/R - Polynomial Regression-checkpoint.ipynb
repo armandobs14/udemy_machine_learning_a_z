{
 "cells": [
  {
   "cell_type": "markdown",
   "metadata": {},
   "source": [
    "# Polynomial Regression - R"
   ]
  },
  {
   "cell_type": "markdown",
   "metadata": {},
   "source": [
    "## Importing the dataset"
   ]
  },
  {
   "cell_type": "code",
   "execution_count": 1,
   "metadata": {},
   "outputs": [],
   "source": [
    "dataset = read.csv('Polynomial_Regression/Position_Salaries.csv')\n",
    "dataset = dataset[2:3]\n",
    "# dataset"
   ]
  },
  {
   "cell_type": "markdown",
   "metadata": {},
   "source": [
    " ## Fitting Linear Regression to the dataset"
   ]
  },
  {
   "cell_type": "code",
   "execution_count": 2,
   "metadata": {},
   "outputs": [
    {
     "data": {
      "text/plain": [
       "\n",
       "Call:\n",
       "lm(formula = Salary ~ ., data = dataset)\n",
       "\n",
       "Residuals:\n",
       "    Min      1Q  Median      3Q     Max \n",
       "-170818 -129720  -40379   65856  386545 \n",
       "\n",
       "Coefficients:\n",
       "            Estimate Std. Error t value Pr(>|t|)   \n",
       "(Intercept)  -195333     124790  -1.565  0.15615   \n",
       "Level          80879      20112   4.021  0.00383 **\n",
       "---\n",
       "Signif. codes:  0 ‘***’ 0.001 ‘**’ 0.01 ‘*’ 0.05 ‘.’ 0.1 ‘ ’ 1\n",
       "\n",
       "Residual standard error: 182700 on 8 degrees of freedom\n",
       "Multiple R-squared:  0.669,\tAdjusted R-squared:  0.6277 \n",
       "F-statistic: 16.17 on 1 and 8 DF,  p-value: 0.003833\n"
      ]
     },
     "metadata": {},
     "output_type": "display_data"
    }
   ],
   "source": [
    "model = lm( formula = Salary ~ ., data = dataset)\n",
    "summary(model)"
   ]
  },
  {
   "cell_type": "markdown",
   "metadata": {},
   "source": [
    " ## Fitting Polynomial Regression to the dataset"
   ]
  },
  {
   "cell_type": "code",
   "execution_count": 3,
   "metadata": {},
   "outputs": [],
   "source": [
    "model = lm(Salary ~ poly(dataset$Level,4),\n",
    "          data = dataset)"
   ]
  },
  {
   "cell_type": "code",
   "execution_count": 5,
   "metadata": {},
   "outputs": [
    {
     "name": "stderr",
     "output_type": "stream",
     "text": [
      "Installing package into ‘/home/armando/R/x86_64-pc-linux-gnu-library/3.4’\n",
      "(as ‘lib’ is unspecified)\n",
      "ERROR while rich displaying an object: Error in eval(predvars, data, env): argumento 'envir' numérico não tem comprimento um\n",
      "\n",
      "Traceback:\n",
      "1. FUN(X[[i]], ...)\n",
      "2. tryCatch(withCallingHandlers({\n",
      " .     rpr <- mime2repr[[mime]](obj)\n",
      " .     if (is.null(rpr)) \n",
      " .         return(NULL)\n",
      " .     prepare_content(is.raw(rpr), rpr)\n",
      " . }, error = error_handler), error = outer_handler)\n",
      "3. tryCatchList(expr, classes, parentenv, handlers)\n",
      "4. tryCatchOne(expr, names, parentenv, handlers[[1L]])\n",
      "5. doTryCatch(return(expr), name, parentenv, handler)\n",
      "6. withCallingHandlers({\n",
      " .     rpr <- mime2repr[[mime]](obj)\n",
      " .     if (is.null(rpr)) \n",
      " .         return(NULL)\n",
      " .     prepare_content(is.raw(rpr), rpr)\n",
      " . }, error = error_handler)\n",
      "7. mime2repr[[mime]](obj)\n",
      "8. repr_text.default(obj)\n",
      "9. paste(capture.output(print(obj)), collapse = \"\\n\")\n",
      "10. capture.output(print(obj))\n",
      "11. evalVis(expr)\n",
      "12. withVisible(eval(expr, pf))\n",
      "13. eval(expr, pf)\n",
      "14. eval(expr, pf)\n",
      "15. print(obj)\n",
      "16. print.ggplot(obj)\n",
      "17. ggplot_build(x)\n",
      "18. by_layer(function(l, d) l$compute_aesthetics(d, plot))\n",
      "19. f(l = layers[[i]], d = data[[i]])\n",
      "20. l$compute_aesthetics(d, plot)\n",
      "21. f(..., self = self)\n",
      "22. lapply(aesthetics, eval, envir = data, enclos = plot$plot_env)\n",
      "23. FUN(X[[i]], ...)\n",
      "24. FUN(X[[i]], ...)\n",
      "25. predict(model, dataset$Level)\n",
      "26. predict.lm(model, dataset$Level)\n",
      "27. model.frame(Terms, newdata, na.action = na.action, xlev = object$xlevels)\n",
      "28. model.frame.default(Terms, newdata, na.action = na.action, xlev = object$xlevels)\n",
      "29. eval(predvars, data, env)\n"
     ]
    },
    {
     "data": {},
     "metadata": {},
     "output_type": "display_data"
    },
    {
     "data": {
      "image/png": "[encoded data removed]",
      "text/plain": [
       "plot without title"
      ]
     },
     "metadata": {},
     "output_type": "display_data"
    }
   ],
   "source": [
    "# install.packages('ggplot2')\n",
    "library(ggplot2)\n",
    "ggplot() +\n",
    "    geom_point(aes(x = dataset$Level, y = dataset$Salary),\n",
    "              color = 'red') +\n",
    "    geom_line(aes(x = dataset$Level, y = predict(model, dataset$Level)),\n",
    "              color = 'blue') + \n",
    "    ggtitle('Truth or Bluff (Polynomial Regression)') +\n",
    "    xlab('Level') +\n",
    "    ylab('Salary')"
   ]
  }
 ],
 "metadata": {
  "kernelspec": {
   "display_name": "R",
   "language": "R",
   "name": "ir"
  },
  "language_info": {
   "codemirror_mode": "r",
   "file_extension": ".r",
   "mimetype": "text/x-r-source",
   "name": "R",
   "pygments_lexer": "r",
   "version": "3.4.3"
  }
 },
 "nbformat": 4,
 "nbformat_minor": 2
}
